{
 "cells": [
  {
   "cell_type": "code",
   "execution_count": 1,
   "id": "3d4c2eca-e12b-4196-90d3-dde0f01842fa",
   "metadata": {},
   "outputs": [],
   "source": [
    "import numpy as np"
   ]
  },
  {
   "cell_type": "code",
   "execution_count": 3,
   "id": "e9f3ce55-6614-40f9-85f0-8a771671b9a3",
   "metadata": {},
   "outputs": [
    {
     "data": {
      "text/plain": [
       "array([0, 2, 4, 6, 8])"
      ]
     },
     "execution_count": 3,
     "metadata": {},
     "output_type": "execute_result"
    }
   ],
   "source": [
    "arr = np.arange(0,5)\n",
    "arr1 = arr * 2\n",
    "arr1"
   ]
  },
  {
   "cell_type": "code",
   "execution_count": null,
   "id": "4372ee90-6662-4a4d-b792-94e8c6cc7e4f",
   "metadata": {},
   "outputs": [],
   "source": [
    "linear_array = np.linspace(50, 60, 100)\n",
    "linear_array"
   ]
  },
  {
   "cell_type": "code",
   "execution_count": null,
   "id": "30447f9f-dc3b-4de5-bec3-219803e82428",
   "metadata": {},
   "outputs": [],
   "source": [
    "matrix_array = linear_array.reshape((10, 10))\n",
    "matrix_array"
   ]
  },
  {
   "cell_type": "code",
   "execution_count": null,
   "id": "a2549b6f-cc47-4f34-9216-fdd725820801",
   "metadata": {},
   "outputs": [],
   "source": [
    "result_array = matrix_array % 5 == 0\n",
    "result_array"
   ]
  }
 ],
 "metadata": {
  "kernelspec": {
   "display_name": "Python 3 (ipykernel)",
   "language": "python",
   "name": "python3"
  },
  "language_info": {
   "codemirror_mode": {
    "name": "ipython",
    "version": 3
   },
   "file_extension": ".py",
   "mimetype": "text/x-python",
   "name": "python",
   "nbconvert_exporter": "python",
   "pygments_lexer": "ipython3",
   "version": "3.11.4"
  }
 },
 "nbformat": 4,
 "nbformat_minor": 5
}
