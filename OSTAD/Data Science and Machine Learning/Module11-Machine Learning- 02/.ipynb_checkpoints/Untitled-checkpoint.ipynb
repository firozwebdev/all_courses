{
 "cells": [
  {
   "cell_type": "code",
   "execution_count": 1,
   "id": "9848ecce-0278-491b-a376-af6db2a051d8",
   "metadata": {},
   "outputs": [
    {
     "name": "stdout",
     "output_type": "stream",
     "text": [
      "hello world\n"
     ]
    }
   ],
   "source": [
    "print(\"hello world\")\n"
   ]
  },
  {
   "cell_type": "code",
   "execution_count": 3,
   "id": "7096aade-c722-4ac4-90d3-3e6887c31b0a",
   "metadata": {},
   "outputs": [
    {
     "name": "stdout",
     "output_type": "stream",
     "text": [
      "hello \n",
      "world\n"
     ]
    }
   ],
   "source": [
    "print(\"hello \\nworld\")\n",
    "      "
   ]
  },
  {
   "cell_type": "code",
   "execution_count": 4,
   "id": "876e16f5-0c6f-41b3-99fa-978744efda0e",
   "metadata": {},
   "outputs": [
    {
     "name": "stdout",
     "output_type": "stream",
     "text": [
      "function hello (){ \n",
      "\n",
      " } \n"
     ]
    }
   ],
   "source": [
    "print(\"function hello (){ \\n\\n } \")"
   ]
  },
  {
   "cell_type": "code",
   "execution_count": 8,
   "id": "cfe92bc0-f223-4e44-96ff-421a45851634",
   "metadata": {},
   "outputs": [],
   "source": [
    "f = open(\"myfile.txt\", \"w\")\n",
    "f.write(\"hello world\")\n",
    "f.close()"
   ]
  },
  {
   "cell_type": "code",
   "execution_count": 54,
   "id": "466d0a07-5a03-4843-9d5c-4d9e21597d33",
   "metadata": {},
   "outputs": [],
   "source": [
    "file = open(\"myfile.php\",\"w\")\n",
    "data = \"<?php \\nfunction hello ($arg){\\n\"\n",
    "data += \"  $data = \\\"this is from php code from {$arg}\\\";\"\n",
    "data += \"\\n  echo  $data;\" \n",
    "data += \"\\n}\\n hello(\\\"python\\\"); \"\n",
    "\n",
    "file.write(data)\n",
    "\n",
    "file.close()"
   ]
  },
  {
   "cell_type": "code",
   "execution_count": 62,
   "id": "ede71fe7-ec5c-46ae-b933-b9287a150e46",
   "metadata": {},
   "outputs": [],
   "source": [
    "# Laravel Model Maker code.......\n",
    "\n",
    "def makeModel(modelName,columns):\n",
    "    file = open(f\"{modelName}.php\",\"w\")\n",
    "    data = \"<?php\\n\"\n",
    "    \n",
    "    data += \"namespace App\\Models;\\n\"\n",
    "    data += f\"use App\\Models\\{modelName};\\n\"\n",
    "    data += \"use Illuminate\\Database\\Eloquent\\Factories\\HasFactory;\"\n",
    "    data += \"use Illuminate\\Database\\Eloquent\\Model;\\n\"\n",
    "    \n",
    "    #data += \"use App\\Models\\User;\\n\"\n",
    "    \n",
    "    data += f\"class {modelName} extends Model\"\n",
    "    data += \"\\n{\\n\"\n",
    "    data += \"  use HasFactory;\\n\"\n",
    "    data += f\"  protected $fillable = {columns};\"\n",
    "    data += \"\\n  public function user(){\\n\"\n",
    "    data += \"    return $this->belongsTo(User::class);\\n\"\n",
    "    data += \"  }\"\n",
    "    data += \"\\n}\"\n",
    "    \n",
    "    \n",
    "    file.write(data)\n",
    "    file.close()\n",
    "columns = ['name','email','address','age','fb_id']\n",
    "makeModel('Traveller',columns)\n",
    " "
   ]
  },
  {
   "cell_type": "code",
   "execution_count": 73,
   "id": "4a3c432d-45b2-466c-bd2c-103eec3247a2",
   "metadata": {},
   "outputs": [],
   "source": [
    "# Method Maker code.....\n",
    "def methodMaker(methodName):\n",
    "    data = ''\n",
    "    for method in methods:\n",
    "       data += f\"public function {methodName}() \\n\"\n",
    "       data += \"{}\\n\"\n",
    "    return data\n",
    "\n",
    "# Laravel Controller Maker code.......\n",
    "def makeController(controllerName):\n",
    "    file = open(f\"{controllerName}.php\",\"w\")\n",
    "    data = \"<?php\\n\"\n",
    "    data += \"namespace App\\Http\\Controllers;\\n use Illuminate\\Http\\Request;\\n\"\n",
    "    data += \"class TestController extends Controller\"\n",
    "    data += \"\\n{\\n\"\n",
    "    data += methodMaker(methodName)\n",
    "    data += \"\\n}\\n\"\n",
    "    file.write(data)\n",
    "    file.close()\n",
    "\n",
    "methods = ['index','edit','store']\n",
    "methodMaker(methods)\n",
    "makeController(\"TestController\")\n"
   ]
  },
  {
   "cell_type": "code",
   "execution_count": null,
   "id": "c6f89edd-242a-4715-8799-de829a55416b",
   "metadata": {},
   "outputs": [],
   "source": []
  }
 ],
 "metadata": {
  "kernelspec": {
   "display_name": "Python 3 (ipykernel)",
   "language": "python",
   "name": "python3"
  },
  "language_info": {
   "codemirror_mode": {
    "name": "ipython",
    "version": 3
   },
   "file_extension": ".py",
   "mimetype": "text/x-python",
   "name": "python",
   "nbconvert_exporter": "python",
   "pygments_lexer": "ipython3",
   "version": "3.11.4"
  }
 },
 "nbformat": 4,
 "nbformat_minor": 5
}
