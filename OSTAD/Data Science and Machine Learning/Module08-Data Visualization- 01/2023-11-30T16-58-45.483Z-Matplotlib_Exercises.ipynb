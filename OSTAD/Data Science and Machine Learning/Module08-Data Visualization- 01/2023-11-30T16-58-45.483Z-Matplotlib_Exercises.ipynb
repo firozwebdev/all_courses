{
 "cells": [
  {
   "cell_type": "markdown",
   "metadata": {},
   "source": [
    "# Data Visualization with Python using Matplotlib -- Exercises - Solutions\n",
    "\n",
    "Hi Guys,<br>\n",
    "Welcome to the matplotlib exercises lecture. <br>\n",
    "\n",
    "Please follow the instructions while solving the exercises. These are relatively easy tasks, if you are new to matplotlib, the tasks may be tricky. You can always reference to the solutions if you find things complicated. \n",
    "\n",
    "&#9989; Please note, the commands for plotting figures should go all together in the same cell. Splitting them in multiple cells may not show the results. <br>\n",
    "Let's have a quick overview on the tasks. <br>\n",
    "\n",
    "In the first cell, we are simply creating data x and y to use in the provided tasks."
   ]
  },
  {
   "cell_type": "code",
   "execution_count": null,
   "metadata": {},
   "outputs": [],
   "source": [
    "# We need data to work with, lets create data first!\n",
    "import numpy as np\n",
    "x = np.arange(0,10)\n",
    "y = x*2\n",
    "z = x**2"
   ]
  },
  {
   "cell_type": "markdown",
   "metadata": {},
   "source": [
    "&#9758; If you are a jupyter users:\n",
    "* Let's import <code>**matplotlib.pyplot as plt**</code> and set <code>**%matplotlib inline**</code>.\n",
    "\n",
    "If you are not using jupyter notebook, you will use <code>**plt.show()**</code> "
   ]
  },
  {
   "cell_type": "code",
   "execution_count": null,
   "metadata": {},
   "outputs": [],
   "source": [
    "import matplotlib.pyplot as plt\n",
    "%matplotlib inline\n",
    "plt.show()"
   ]
  },
  {
   "cell_type": "markdown",
   "metadata": {},
   "source": [
    "**1. Instructions:**\n",
    "* ** Use <code>plt.figure()</code> and create a figure object, say fig.**\n",
    "* ** Add an axis to the figure canvas (`fig`), `[left, bottom, width, height] is [0,0,1,1]`. <i>Hint: <code>add_axes()</code><i>**\n",
    "* ** Plot the data x,y on the axes**\n",
    "* ** Set the labels x and y**\n",
    "* ** Set the title**\n",
    "* ** Create legends as shown in the plot**\n",
    "\n",
    "Match the output below: "
   ]
  },
  {
   "cell_type": "code",
   "execution_count": null,
   "metadata": {
    "scrolled": true
   },
   "outputs": [],
   "source": []
  },
  {
   "cell_type": "code",
   "execution_count": null,
   "metadata": {},
   "outputs": [],
   "source": []
  },
  {
   "cell_type": "markdown",
   "metadata": {},
   "source": [
    "**2. Instructions**<br>\n",
    "* ** Create a figure object**\n",
    "* ** Put two axes on the figure at [0,0,1,1] and [0.1,0.6,0.2,0.2]**\n",
    "* ** Plot data (x,z) on main axes**\n",
    "* ** Plot data (x,z) on the small axes and set its x limit b/w 1, 2, y limit 0, 5**\n",
    "* ** Replicate the figure to axes, titles, legends etc**"
   ]
  },
  {
   "cell_type": "code",
   "execution_count": null,
   "metadata": {},
   "outputs": [],
   "source": [
    "#Code here"
   ]
  },
  {
   "cell_type": "code",
   "execution_count": null,
   "metadata": {},
   "outputs": [],
   "source": []
  },
  {
   "cell_type": "markdown",
   "metadata": {},
   "source": [
    "**3. Replicate the output using <code>subplots()</code> and for loop** -- Note, the data is x and y. "
   ]
  },
  {
   "cell_type": "code",
   "execution_count": null,
   "metadata": {},
   "outputs": [],
   "source": [
    "#Code here"
   ]
  },
  {
   "cell_type": "code",
   "execution_count": null,
   "metadata": {},
   "outputs": [],
   "source": []
  },
  {
   "cell_type": "markdown",
   "metadata": {},
   "source": [
    "**4. Replicate the output using <code>subplots()</code>**"
   ]
  },
  {
   "cell_type": "code",
   "execution_count": null,
   "metadata": {},
   "outputs": [],
   "source": [
    "#Code here"
   ]
  },
  {
   "cell_type": "code",
   "execution_count": null,
   "metadata": {
    "scrolled": true
   },
   "outputs": [],
   "source": []
  },
  {
   "cell_type": "markdown",
   "metadata": {},
   "source": [
    "**5. plot `(x,y)`, `(x,z)` and `(x,y)` on the above empty canvas to replicate the plot given below.**"
   ]
  },
  {
   "cell_type": "code",
   "execution_count": null,
   "metadata": {},
   "outputs": [],
   "source": [
    "#Code here"
   ]
  },
  {
   "cell_type": "code",
   "execution_count": null,
   "metadata": {},
   "outputs": [],
   "source": []
  },
  {
   "cell_type": "markdown",
   "metadata": {},
   "source": [
    "**6. Resize the above plots to `figsize = (3,4)`**"
   ]
  },
  {
   "cell_type": "code",
   "execution_count": null,
   "metadata": {},
   "outputs": [],
   "source": [
    "#Code here"
   ]
  },
  {
   "cell_type": "code",
   "execution_count": null,
   "metadata": {},
   "outputs": [],
   "source": []
  },
  {
   "cell_type": "markdown",
   "metadata": {},
   "source": [
    "**7. Replicate the plot given below:**<br>\n",
    "*hint: scatter plot*"
   ]
  },
  {
   "cell_type": "code",
   "execution_count": null,
   "metadata": {},
   "outputs": [],
   "source": [
    "#Code here"
   ]
  },
  {
   "cell_type": "code",
   "execution_count": null,
   "metadata": {},
   "outputs": [],
   "source": []
  },
  {
   "cell_type": "markdown",
   "metadata": {},
   "source": [
    "# Excellent, Good Job!"
   ]
  }
 ],
 "metadata": {
  "kernelspec": {
   "display_name": "Python 3 (ipykernel)",
   "language": "python",
   "name": "python3"
  },
  "language_info": {
   "codemirror_mode": {
    "name": "ipython",
    "version": 3
   },
   "file_extension": ".py",
   "mimetype": "text/x-python",
   "name": "python",
   "nbconvert_exporter": "python",
   "pygments_lexer": "ipython3",
   "version": "3.11.4"
  }
 },
 "nbformat": 4,
 "nbformat_minor": 4
}
