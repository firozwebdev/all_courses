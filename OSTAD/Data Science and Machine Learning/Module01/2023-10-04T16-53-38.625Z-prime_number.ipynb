{
 "cells": [
  {
   "cell_type": "markdown",
   "metadata": {},
   "source": [
    "For loop"
   ]
  },
  {
   "cell_type": "code",
   "execution_count": null,
   "metadata": {},
   "outputs": [],
   "source": [
    "start = 13 # default = 0\n",
    "end = 3\n",
    "step = -1 # default = 1\n",
    "for i in range(start, end, step): # start to end -1\n",
    "    print(i)"
   ]
  },
  {
   "cell_type": "markdown",
   "metadata": {},
   "source": [
    "Find prime number using for loop"
   ]
  },
  {
   "cell_type": "code",
   "execution_count": 1,
   "metadata": {},
   "outputs": [
    {
     "name": "stdout",
     "output_type": "stream",
     "text": [
      "4\n"
     ]
    }
   ],
   "source": [
    "end_value = int(input(\"enter a range: \"))\n",
    "sum = 0\n",
    "for num in range(end_value):\n",
    "    if num > 1:\n",
    "        for i in range(2,num): # 2 to num-1\n",
    "            if num % i == 0:\n",
    "                print(num, \"is not a prime number!\")\n",
    "\n",
    "                break\n",
    "        else:\n",
    "            print(num, \"is a prime number!\")\n",
    "            # sum =  sum + 1\n",
    "\n",
    "    else:\n",
    "        print(num, \"is not a prime number!\")\n",
    "        # pass\n",
    "# print(sum)"
   ]
  },
  {
   "cell_type": "markdown",
   "metadata": {},
   "source": [
    "Find prime number using while loop"
   ]
  },
  {
   "cell_type": "code",
   "execution_count": 6,
   "metadata": {},
   "outputs": [
    {
     "name": "stdout",
     "output_type": "stream",
     "text": [
      "2 is a prime number\n",
      "3 is a prime number\n",
      "4 is not a prime number!\n",
      "5 is a prime number\n",
      "6 is not a prime number!\n",
      "7 is a prime number\n",
      "8 is not a prime number!\n",
      "9 is not a prime number!\n",
      "10 is not a prime number!\n"
     ]
    }
   ],
   "source": [
    "num = int(input(\"enter a number: \")) # 10\n",
    "i = 2\n",
    "while i <= num: # 2 to num\n",
    "    j = 2\n",
    "    while j <= (i // j): # when i = 4      while 2 <= 2\n",
    "        if (i % j) == 0 : # 4 % 2 = 0\n",
    "            print(i, \"is not a prime number!\")\n",
    "            break\n",
    "\n",
    "        j = j + 1\n",
    "    if (j > i // j): # 2 > 1 \n",
    "        print(i, \"is a prime number\")\n",
    "\n",
    "    i = i + 1"
   ]
  }
 ],
 "metadata": {
  "kernelspec": {
   "display_name": "Python 3.10.4 ('tanvir')",
   "language": "python",
   "name": "python3"
  },
  "language_info": {
   "codemirror_mode": {
    "name": "ipython",
    "version": 3
   },
   "file_extension": ".py",
   "mimetype": "text/x-python",
   "name": "python",
   "nbconvert_exporter": "python",
   "pygments_lexer": "ipython3",
   "version": "3.10.4"
  },
  "orig_nbformat": 4,
  "vscode": {
   "interpreter": {
    "hash": "443ac9406d8931de6dd307da542a428cefeda2af6e68870bac11a176a1a64792"
   }
  }
 },
 "nbformat": 4,
 "nbformat_minor": 2
}
